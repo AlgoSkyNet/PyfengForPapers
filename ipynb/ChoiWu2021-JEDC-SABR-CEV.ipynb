{
 "cells": [
  {
   "cell_type": "markdown",
   "metadata": {},
   "source": [
    "# ChoiWu2021-JEDC-SABR-CEV"
   ]
  },
  {
   "cell_type": "markdown",
   "metadata": {},
   "source": [
    "### Title: \n",
    "__The equivalent constant-elasticity-of-variance (CEV) volatility of the stochastic-alpha-beta-rho (SABR) model__\n",
    "\n",
    "### Authors:\n",
    "* Jaehyuk Choi ([@jaehyukchoi](https://github.com/jaehyukchoi))\n",
    "* Lixin Wu\n",
    "\n",
    "### Abstract:\n",
    "This study presents new analytic approximations of the stochastic-alpha-beta-rho (SABR) model. Unlike existing studies that focus on the equivalent Black–Scholes (BS) volatility, we instead derive the equivalent constant-elasticity-of-variance (CEV) volatility. Our approach effectively reduces the approximation error in a way similar to the control variate method because the CEV model is the zero vol-of-vol limit of the SABR model. Moreover, the CEV volatility approximation yields a finite value at a zero strike and thus conveniently leads to a small-time asymptotics for the mass at zero. The numerical results compare favorably with the BS volatility approximations in terms of the approximation accuracy, small-strike volatility asymptotics, and no-arbitrage region."
   ]
  },
  {
   "cell_type": "code",
   "execution_count": 1,
   "metadata": {},
   "outputs": [],
   "source": [
    "%load_ext autoreload\n",
    "%autoreload 2"
   ]
  },
  {
   "cell_type": "code",
   "execution_count": 2,
   "metadata": {},
   "outputs": [],
   "source": [
    "import numpy as np\n",
    "import matplotlib.pyplot as plt\n",
    "import copy\n",
    "import pandas as pd\n",
    "import scipy as sp\n",
    "\n",
    "#import sys\n",
    "#sys.path.insert(sys.path.index('')+1, 'D:/Github/PyFENG')\n",
    "import pyfeng as pf"
   ]
  },
  {
   "cell_type": "code",
   "execution_count": 3,
   "metadata": {},
   "outputs": [],
   "source": [
    "# uncomment and run to see the all available parameter sets\n",
    "#pf.SabrHagan2002.init_benchmark()"
   ]
  },
  {
   "cell_type": "markdown",
   "metadata": {},
   "source": [
    "## Table 2/3/4 and Figure 3 (a-c) (Set 1/2/3) "
   ]
  },
  {
   "cell_type": "code",
   "execution_count": 4,
   "metadata": {},
   "outputs": [],
   "source": [
    "# 1 (Table 2, Figure 3a), 2 (Table 3, Figure 3b), 3 (Table 4, Figure 3c)\n",
    "param_set = 1\n",
    "\n",
    "assert param_set in [1,2,3]\n",
    "set_no = {1:20, 2:19, 3:17}[param_set]\n",
    "\n",
    "m_bsA, df, ref = pf.SabrHagan2002.init_benchmark(set_no)\n",
    "m_cevA, *_ = pf.SabrChoiWu2021H.init_benchmark(set_no)\n",
    "m_cevB, *_ = pf.SabrChoiWu2021P.init_benchmark(set_no)\n",
    "m_bsC, *_ = pf.SabrLorig2017.init_benchmark(set_no)\n",
    "\n",
    "fwd = ref['args_pricing']['spot']\n",
    "texp = ref['args_pricing']['texp']\n",
    "strike_exact = ref['args_pricing']['strike']\n",
    "alpha = m_bsA.sigma/np.power(ref['args_pricing']['spot'],1.0-m_bsA.beta)\n",
    "\n",
    "if ref['is_iv']:\n",
    "    vol_exact = ref['val']\n",
    "    p_exact = pf.Bsm(ref['val']).price(**ref['args_pricing'])\n",
    "else:\n",
    "    p_exact = ref['val']\n",
    "    vol_exact = pf.Bsm(None).impvol(ref['val'], **ref['args_pricing'])\n",
    "\n",
    "m0_exact = {20: 0.1634, 19: 0.7758, 17: 0.2220}[set_no]"
   ]
  },
  {
   "cell_type": "code",
   "execution_count": 5,
   "metadata": {},
   "outputs": [],
   "source": [
    "vol_bsA = m_bsA.vol_for_price(**ref['args_pricing'])\n",
    "vol_bsC = m_bsC.vol_for_price(**ref['args_pricing'])\n",
    "vol_cevA = m_cevA.vol_smile(**ref['args_pricing'])\n",
    "\n",
    "m_cevB._base_beta = None\n",
    "vol_cevB = m_cevB.vol_smile(**ref['args_pricing'])\n",
    "\n",
    "m_cevB._base_beta = 1.0\n",
    "vol_bsB = m_cevB.vol_smile(**ref['args_pricing'])\n",
    "\n",
    "vol_err = (np.array([vol_bsA, vol_bsB, vol_bsC, vol_cevA, vol_cevB]) - vol_exact)/alpha\n",
    "exact = np.array([vol_exact*100, p_exact])"
   ]
  },
  {
   "cell_type": "code",
   "execution_count": 6,
   "metadata": {},
   "outputs": [
    {
     "data": {
      "text/html": [
       "<div>\n",
       "<style scoped>\n",
       "    .dataframe tbody tr th:only-of-type {\n",
       "        vertical-align: middle;\n",
       "    }\n",
       "\n",
       "    .dataframe tbody tr th {\n",
       "        vertical-align: top;\n",
       "    }\n",
       "\n",
       "    .dataframe thead th {\n",
       "        text-align: right;\n",
       "    }\n",
       "</style>\n",
       "<table border=\"1\" class=\"dataframe\">\n",
       "  <thead>\n",
       "    <tr style=\"text-align: right;\">\n",
       "      <th></th>\n",
       "      <th>BS-A</th>\n",
       "      <th>BS-B</th>\n",
       "      <th>BS-C</th>\n",
       "      <th>CEV-A</th>\n",
       "      <th>CEV-A</th>\n",
       "      <th>Exact $\\sigma_{BS}$</th>\n",
       "      <th>Exact P</th>\n",
       "    </tr>\n",
       "  </thead>\n",
       "  <tbody>\n",
       "    <tr>\n",
       "      <th>0.868123</th>\n",
       "      <td>0.026870</td>\n",
       "      <td>0.026817</td>\n",
       "      <td>0.004192</td>\n",
       "      <td>0.024417</td>\n",
       "      <td>0.024344</td>\n",
       "      <td>74.187422</td>\n",
       "      <td>0.221383</td>\n",
       "    </tr>\n",
       "    <tr>\n",
       "      <th>1.000000</th>\n",
       "      <td>0.023573</td>\n",
       "      <td>0.023573</td>\n",
       "      <td>0.002721</td>\n",
       "      <td>0.021659</td>\n",
       "      <td>0.021659</td>\n",
       "      <td>71.666002</td>\n",
       "      <td>0.193837</td>\n",
       "    </tr>\n",
       "    <tr>\n",
       "      <th>1.151910</th>\n",
       "      <td>0.020901</td>\n",
       "      <td>0.020843</td>\n",
       "      <td>0.001598</td>\n",
       "      <td>0.019423</td>\n",
       "      <td>0.019345</td>\n",
       "      <td>69.325033</td>\n",
       "      <td>0.166241</td>\n",
       "    </tr>\n",
       "  </tbody>\n",
       "</table>\n",
       "</div>"
      ],
      "text/plain": [
       "              BS-A      BS-B      BS-C     CEV-A     CEV-A  \\\n",
       "0.868123  0.026870  0.026817  0.004192  0.024417  0.024344   \n",
       "1.000000  0.023573  0.023573  0.002721  0.021659  0.021659   \n",
       "1.151910  0.020901  0.020843  0.001598  0.019423  0.019345   \n",
       "\n",
       "          Exact $\\sigma_{BS}$   Exact P  \n",
       "0.868123            74.187422  0.221383  \n",
       "1.000000            71.666002  0.193837  \n",
       "1.151910            69.325033  0.166241  "
      ]
     },
     "execution_count": 6,
     "metadata": {},
     "output_type": "execute_result"
    }
   ],
   "source": [
    "pd.DataFrame(\n",
    "    np.hstack([vol_err.T, exact.T]), index=strike_exact/fwd,\n",
    "    columns=['BS-A', 'BS-B', 'BS-C', 'CEV-A', 'CEV-A', 'Exact $\\sigma_{BS}$', 'Exact P']\n",
    ")"
   ]
  },
  {
   "cell_type": "code",
   "execution_count": 7,
   "metadata": {},
   "outputs": [],
   "source": [
    "strike = np.power(10, np.arange(-2.5,1,0.025))*fwd\n",
    "strike_low = np.power(10, np.concatenate((np.arange(-2.5,0,0.05), np.arange(-0.05,-0.005,0.005))))*fwd\n",
    "\n",
    "m_cevB._base_beta = 1.0\n",
    "vol_bsB = m_cevB.vol_smile(strike, fwd, texp)\n",
    "\n",
    "m_cevB._base_beta = None\n",
    "vol_cevB = m_cevB.vol_smile(strike, fwd, texp)\n",
    "\n",
    "vol_dem = m_cevB.vol_from_mass_zero(strike_low, fwd, texp)\n",
    "vol_dem2 = m_cevB.vol_from_mass_zero(strike_low, fwd, texp, mass=m0_exact)\n",
    "m0_cevB = m_cevB.mass_zero(fwd, texp)\n",
    "\n",
    "m_cevB._base_beta = 1.0\n",
    "vol_bsB = m_cevB.vol_smile(strike*fwd, fwd, texp)"
   ]
  },
  {
   "cell_type": "code",
   "execution_count": 8,
   "metadata": {
    "scrolled": true
   },
   "outputs": [
    {
     "data": {
      "image/png": "[encoded data removed]",
      "text/plain": [
       "<Figure size 432x288 with 1 Axes>"
      ]
     },
     "metadata": {
      "needs_background": "light"
     },
     "output_type": "display_data"
    }
   ],
   "source": [
    "vol_arr = [vol_cevB, vol_bsB, vol_dem, vol_dem2]\n",
    "K_arr = [strike, strike, strike_low, strike_low]\n",
    "\n",
    "labels = ['CEV-B', 'BS-B', 'DMHJ', 'DMHJ-2']\n",
    "\n",
    "ls = ['-', ':', '--', '-.']\n",
    "colors = ['b', 'gray', 'r', 'magenta']\n",
    "\n",
    "for k in np.arange(4):  # len(vol_arr)\n",
    "    plt.plot(np.log10(K_arr[k]/fwd), vol_arr[k]*100, label=labels[k], color=colors[k], linestyle=ls[k])\n",
    "\n",
    "plt.plot(np.log10(strike_exact/fwd), vol_exact*100, 'kx', label = 'Exact')\n",
    "\n",
    "plt.xlim([-2.5,0.5])\n",
    "plt.ylim([min(vol_cevB)*100-50, max(vol_cevB)*100+50])\n",
    "plt.ylabel('Implied BS volatility (%)', fontsize=12)\n",
    "plt.xlabel(r'$\\log_{10}$( k )', fontsize=12)\n",
    "plt.legend(fontsize=12, loc=1)\n",
    "\n",
    "abc = 'abc'[param_set-1]\n",
    "plt.title(f'({abc}) Set {param_set} ($M_T={m0_cevB:0.4f}$ / {m0_exact:0.4f})', fontsize=16)\n",
    "\n",
    "plt.grid()\n",
    "#plt.savefig('../Latex-Etc/images/Set3-DeMarco.pdf', bbox_inches='tight')\n",
    "plt.show()"
   ]
  },
  {
   "cell_type": "markdown",
   "metadata": {},
   "source": [
    "## Figure 1"
   ]
  },
  {
   "cell_type": "code",
   "execution_count": 9,
   "metadata": {},
   "outputs": [],
   "source": [
    "# Select [0, 1, 2, 3, 4, 5]\n",
    "ind_exact = 0  # 0:base, 1:fwd, 2:sigma, 3:beta, 4:vov\n",
    "\n",
    "subfig_title = [\n",
    "    r'(a) Base parameter', \n",
    "    r'(b) $F_0 = 0.2$', \n",
    "    r'(c) $\\sigma_0 = 0.1$', \n",
    "    r'(d) $\\beta$ = 0.2', \n",
    "    r'(e) $\\nu$ = 0.4'\n",
    "][ind_exact]"
   ]
  },
  {
   "cell_type": "code",
   "execution_count": 10,
   "metadata": {},
   "outputs": [],
   "source": [
    "params = {\"sigma\": 0.2, \"vov\": 0.1, \"rho\": 0, \"beta\":0.1} # base\n",
    "\n",
    "texp_exact = np.arange(1,11)/10\n",
    "log_m_exact = np.array([\n",
    "    [-3.36585222, -1.96687272, -1.46047053, -1.1908933 , -1.02056457, -0.90185897, -0.81369244, -0.74521469, -0.69023839, -0.64496119],\n",
    "    [-9.40618218, -5.18722753, -3.71849273, -2.95858225, -2.4889435 , -2.16746276, -1.93224571, -1.75188663, -1.60869713, -1.49192629],\n",
    "    [-10.5886564, -5.80757216, -4.14740495, -3.29059218, -2.76218756, -2.40113409, -2.13737701, -1.93541265, -1.7752668, -1.64481175],\n",
    "    [-5.68807177, -3.15635005, -2.26897624, -1.80741883, -1.52102876, -1.3243837 , -1.18015626, -1.06935131, -0.98124325, -0.90929863],\n",
    "    [-3.14610095, -1.87742179, -1.41669492, -1.17103613, -1.01570233, -0.90742306, -0.82701231, -0.76458422, -0.71449569, -0.67327591]\n",
    "])\n",
    "\n",
    "params_all = [\n",
    "    {\"sigma\": 0.2, \"vov\": 0.1, \"rho\": -0.5, \"beta\":0.1, \"fwd\":0.1}, # base\n",
    "    {\"sigma\": 0.2, \"vov\": 0.1, \"rho\": -0.5, \"beta\":0.1, \"fwd\":0.2}, # fwd\n",
    "    {\"sigma\": 0.1, \"vov\": 0.1, \"rho\": -0.5, \"beta\":0.1, \"fwd\":0.1}, # sigma\n",
    "    {\"sigma\": 0.2, \"vov\": 0.1, \"rho\": -0.5, \"beta\":0.2, \"fwd\":0.1}, # beta\n",
    "    {\"sigma\": 0.2, \"vov\": 0.4, \"rho\": -0.5, \"beta\":0.1, \"fwd\":0.1}, # vov\n",
    "]"
   ]
  },
  {
   "cell_type": "code",
   "execution_count": 11,
   "metadata": {},
   "outputs": [],
   "source": [
    "params = copy.copy(params_all[ind_exact])\n",
    "fwd = params[\"fwd\"]\n",
    "del params[\"fwd\"]\n",
    "\n",
    "m_cevA = pf.SabrChoiWu2021H(**params)\n",
    "m_cevB = pf.SabrChoiWu2021P(**params)\n",
    "\n",
    "texp = np.arange(0.001, 1.01, 0.02)\n",
    "\n",
    "m0_A = np.array([m_cevA.mass_zero(fwd, t1, log=True) for t1 in texp])\n",
    "m0_B = np.array([m_cevB.mass_zero(fwd, t1, log=True) for t1 in texp])\n",
    "T0 = m_cevB.mass_zero_t0(fwd, 1) # texp is not important"
   ]
  },
  {
   "cell_type": "code",
   "execution_count": 12,
   "metadata": {},
   "outputs": [
    {
     "data": {
      "image/png": "[encoded data removed]",
      "text/plain": [
       "<Figure size 432x288 with 1 Axes>"
      ]
     },
     "metadata": {
      "needs_background": "light"
     },
     "output_type": "display_data"
    }
   ],
   "source": [
    "m0_arr = -np.array([m0_A, m0_B])*texp/T0\n",
    "m0_exact = -log_m_exact[ind_exact]*texp_exact/T0\n",
    "\n",
    "labels = ['CEV-A', 'CEV-B']\n",
    "ls = ['--', '-']\n",
    "colors = ['r', 'b']\n",
    "\n",
    "for k in np.arange(2):\n",
    "    plt.plot(texp, m0_arr[k], label=labels[k], color=colors[k], linestyle=ls[k])\n",
    "\n",
    "plt.plot(texp_exact, m0_exact, 'kx', label = 'FDM')\n",
    "\n",
    "if ind_exact == 0:\n",
    "    plt.ylabel(r'$-T\\; \\log\\;M_T\\;\\; /\\;\\; T_0$', fontsize=16)\n",
    "    plt.xlabel(r'$T$ (time-to-expiry)', fontsize=16)\n",
    "\n",
    "title_T0 = '  ($T_0 = {val:0.4f}$)'.format(val=-T0)\n",
    "plt.title(subfig_title + title_T0, fontsize=16)\n",
    "\n",
    "plt.legend(fontsize=14)\n",
    "plt.grid()\n",
    "#plt.savefig('../Latex-Etc/images/m0_{num}.pdf'.format(num=ind_exact), bbox_inches='tight')\n",
    "plt.show()"
   ]
  },
  {
   "cell_type": "markdown",
   "metadata": {},
   "source": [
    "## Figure 2"
   ]
  },
  {
   "cell_type": "code",
   "execution_count": 13,
   "metadata": {},
   "outputs": [],
   "source": [
    "# Set 1\n",
    "param = {\"sigma\": 0.5, \"vov\": 0.4, \"rho\": 0.0, \"beta\":0.5}\n",
    "fwd = 0.5"
   ]
  },
  {
   "cell_type": "code",
   "execution_count": 14,
   "metadata": {},
   "outputs": [],
   "source": [
    "m_cev = pf.Cev(sigma=param['sigma'], beta=param['beta'])\n",
    "m_cevB = pf.SabrChoiWu2021P(**param)\n",
    "m_ln = pf.SabrUncorrChoiWu2021(**param)\n",
    "T0 = m_cevB.mass_zero_t0(spot=fwd, texp=1)\n",
    "\n",
    "m_mc = pf.SabrMcTimeDisc(**param)\n",
    "m_mc.set_num_params(n_path=10e4, dt=0.05, rn_seed=1234)\n",
    "\n",
    "tarr = np.arange(0, 3.001, 0.25) # Set1\n",
    "tarr[0] = 0.05\n",
    "mass0 = [m_ln.mass_zero(fwd, t, log=True) for t in tarr]\n",
    "mass1 = [m_cevB.mass_zero(fwd, t, log=True) for t in tarr]\n",
    "mass2 = [m_cev.mass_zero(fwd, t, log=True) for t in tarr]\n",
    "mass3 = [m_mc.mass_zero(fwd, t, log=True) for t in tarr]\n",
    "#print(mass0[0], mass1[0], mass2[0])"
   ]
  },
  {
   "cell_type": "code",
   "execution_count": 15,
   "metadata": {},
   "outputs": [
    {
     "data": {
      "image/png": "[encoded data removed]",
      "text/plain": [
       "<Figure size 432x288 with 1 Axes>"
      ]
     },
     "metadata": {
      "needs_background": "light"
     },
     "output_type": "display_data"
    }
   ],
   "source": [
    "# Figure 2(a)\n",
    "plt.plot(tarr, -tarr*(mass0)/T0, 'b--', label = 'GHJ-LN')\n",
    "plt.plot(tarr, -tarr*(mass2)/T0, 'r-.', label = 'YW')\n",
    "plt.plot(tarr, -tarr*(mass1)/T0, 'k-', label = 'CEV-B')\n",
    "plt.plot(tarr, -tarr*(mass3)/T0, 'kx', label = 'MC')\n",
    "\n",
    "plt.ylabel(r'$-T\\; \\log\\;M_T\\;\\; /\\;\\; T_0$', fontsize=16)\n",
    "plt.xlabel(r'$T$ (time-to-expiry)', fontsize=16)\n",
    "plt.grid()\n",
    "plt.legend(fontsize=12)\n",
    "\n",
    "#plt.savefig(f'../Latex-Etc/images/m0_Set1_log.pdf', bbox_inches='tight')\n",
    "#plt.savefig(f'../Latex-Etc/images/m0_Set1_log.png', bbox_inches='tight')\n",
    "plt.show()"
   ]
  },
  {
   "cell_type": "code",
   "execution_count": 16,
   "metadata": {},
   "outputs": [
    {
     "data": {
      "image/png": "[encoded data removed]",
      "text/plain": [
       "<Figure size 432x288 with 1 Axes>"
      ]
     },
     "metadata": {
      "needs_background": "light"
     },
     "output_type": "display_data"
    }
   ],
   "source": [
    "# Figure 2(b)\n",
    "plt.plot(tarr, np.exp(mass0), 'b--', label = 'GHJ-LN')\n",
    "plt.plot(tarr, np.exp(mass2), 'r-.', label = 'YW')\n",
    "plt.plot(tarr, np.exp(mass1), 'k-', label = 'CEV-B')\n",
    "plt.plot(tarr, np.exp(mass3), 'kx', label = 'MC')\n",
    "\n",
    "plt.ylabel(r'$M_T$', fontsize=16)\n",
    "plt.xlabel(r'$T$ (time-to-expiry)', fontsize=16)\n",
    "plt.grid()\n",
    "plt.legend(fontsize=12)\n",
    "\n",
    "#plt.savefig(f'../Latex-Etc/images/m0_Set1_abs.pdf', bbox_inches='tight')\n",
    "#plt.savefig(f'../Latex-Etc/images/m0_Set1_abs.png', bbox_inches='tight')\n",
    "plt.show()"
   ]
  },
  {
   "cell_type": "markdown",
   "metadata": {},
   "source": [
    "## Table 5"
   ]
  },
  {
   "cell_type": "code",
   "execution_count": 17,
   "metadata": {},
   "outputs": [],
   "source": [
    "params0 = {\"sigma\": 0.1, \"vov\": 0.1, \"rho\": 0, \"beta\":0.1}\n",
    "fwd = 0.1\n",
    "texp = 0.5"
   ]
  },
  {
   "cell_type": "code",
   "execution_count": 18,
   "metadata": {},
   "outputs": [
    {
     "name": "stdout",
     "output_type": "stream",
     "text": [
      "-0.3 : 0.06219860721758867 -0.2 : 0.06048185906564118 -0.1 : 0.0587565151871829 "
     ]
    }
   ],
   "source": [
    "rho_arr = np.arange(-3, 0)/10\n",
    "params = params0.copy()\n",
    "mass_arr = list()\n",
    "for rho in rho_arr:\n",
    "    params['rho'] = rho\n",
    "    m = pf.SabrChoiWu2021P(**params)\n",
    "    mass = m.mass_zero(fwd, texp)\n",
    "    mass_arr.append(mass)\n",
    "    print(rho, ':', mass, end=' ')\n",
    "\n",
    "pd.Series(mass_arr, index=None).to_clipboard(excel=True)"
   ]
  },
  {
   "cell_type": "code",
   "execution_count": 19,
   "metadata": {},
   "outputs": [],
   "source": [
    "beta_arr = np.arange(1,5)/10\n",
    "mass_ln = []\n",
    "mass_mc = []\n",
    "mass_cevB = []\n",
    "mass_cev = []\n",
    "\n",
    "params = params0.copy()\n",
    "for beta in beta_arr:\n",
    "    params['beta'] = beta\n",
    "    m_ln = pf.SabrUncorrChoiWu2021(**params)\n",
    "    m_cev = pf.Cev(beta=beta, sigma=params['sigma'])\n",
    "    m_cevB = pf.SabrChoiWu2021P(**params)\n",
    "    m_mc = pf.SabrMcTimeDisc(**params)\n",
    "    m_mc.set_num_params(n_path=20e4, dt=0.05, rn_seed=1234)\n",
    "    \n",
    "    mass_ln.append(m_ln.mass_zero(fwd, texp))\n",
    "    mass_cev.append(m_cev.mass_zero(fwd, texp))\n",
    "    mass_cevB.append(m_cevB.mass_zero(fwd, texp))\n",
    "    mass_mc.append(m_mc.mass_zero(fwd, texp))"
   ]
  },
  {
   "cell_type": "code",
   "execution_count": 20,
   "metadata": {},
   "outputs": [
    {
     "data": {
      "text/html": [
       "<div>\n",
       "<style scoped>\n",
       "    .dataframe tbody tr th:only-of-type {\n",
       "        vertical-align: middle;\n",
       "    }\n",
       "\n",
       "    .dataframe tbody tr th {\n",
       "        vertical-align: top;\n",
       "    }\n",
       "\n",
       "    .dataframe thead th {\n",
       "        text-align: right;\n",
       "    }\n",
       "</style>\n",
       "<table border=\"1\" class=\"dataframe\">\n",
       "  <thead>\n",
       "    <tr style=\"text-align: right;\">\n",
       "      <th></th>\n",
       "      <th>0.1</th>\n",
       "      <th>0.2</th>\n",
       "      <th>0.3</th>\n",
       "      <th>0.4</th>\n",
       "    </tr>\n",
       "  </thead>\n",
       "  <tbody>\n",
       "    <tr>\n",
       "      <th>GHJ-LN</th>\n",
       "      <td>0.056572</td>\n",
       "      <td>0.007966</td>\n",
       "      <td>0.000150</td>\n",
       "      <td>3.197258e-08</td>\n",
       "    </tr>\n",
       "    <tr>\n",
       "      <th>MC</th>\n",
       "      <td>0.056567</td>\n",
       "      <td>0.007963</td>\n",
       "      <td>0.000150</td>\n",
       "      <td>3.223208e-08</td>\n",
       "    </tr>\n",
       "    <tr>\n",
       "      <th>CEV-B</th>\n",
       "      <td>0.057023</td>\n",
       "      <td>0.008090</td>\n",
       "      <td>0.000155</td>\n",
       "      <td>3.477015e-08</td>\n",
       "    </tr>\n",
       "    <tr>\n",
       "      <th>YB (CEV)</th>\n",
       "      <td>0.056082</td>\n",
       "      <td>0.007636</td>\n",
       "      <td>0.000124</td>\n",
       "      <td>1.331990e-08</td>\n",
       "    </tr>\n",
       "  </tbody>\n",
       "</table>\n",
       "</div>"
      ],
      "text/plain": [
       "               0.1       0.2       0.3           0.4\n",
       "GHJ-LN    0.056572  0.007966  0.000150  3.197258e-08\n",
       "MC        0.056567  0.007963  0.000150  3.223208e-08\n",
       "CEV-B     0.057023  0.008090  0.000155  3.477015e-08\n",
       "YB (CEV)  0.056082  0.007636  0.000124  1.331990e-08"
      ]
     },
     "execution_count": 20,
     "metadata": {},
     "output_type": "execute_result"
    }
   ],
   "source": [
    "pd.DataFrame(\n",
    "    [mass_ln, mass_mc, mass_cevB, mass_cev], index=['GHJ-LN', 'MC', 'CEV-B', 'YB (CEV)'],\n",
    "    columns=beta_arr\n",
    ")"
   ]
  },
  {
   "cell_type": "code",
   "execution_count": null,
   "metadata": {},
   "outputs": [],
   "source": []
  }
 ],
 "metadata": {
  "kernelspec": {
   "display_name": "Python 3 (ipykernel)",
   "language": "python",
   "name": "python3"
  },
  "language_info": {
   "codemirror_mode": {
    "name": "ipython",
    "version": 3
   },
   "file_extension": ".py",
   "mimetype": "text/x-python",
   "name": "python",
   "nbconvert_exporter": "python",
   "pygments_lexer": "ipython3",
   "version": "3.9.7"
  }
 },
 "nbformat": 4,
 "nbformat_minor": 2
}
