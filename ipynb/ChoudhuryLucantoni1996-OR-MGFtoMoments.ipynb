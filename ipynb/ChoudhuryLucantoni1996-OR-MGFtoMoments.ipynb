{
 "cells": [
  {
   "cell_type": "markdown",
   "id": "454b9bf3",
   "metadata": {},
   "source": [
    "# ChoudhuryLucantoni1996-OR-MGFtoMoments "
   ]
  },
  {
   "cell_type": "markdown",
   "id": "8349c0fd",
   "metadata": {},
   "source": [
    "### Title: \n",
    "Numerical Computation of the Moments of a Probability Distribution from its Transform\n",
    "\n",
    "### Abstract:\n",
    "We present a simple, fast, and robust algorithm for numerically computing the first N moments (arbitrary N) of a nonnegative probability distribution from its Laplace-Stieltjes transform (continuous/mixed case) or z-transform (discrete case). The algorithm is based on numerically inverting an adaptively modified moment generating function. It only requires computation of the transform at several complex values of its argument. We also show that the high-order moments may be used in detecting the presence of exponential or geometric tails in distributions, and in case they are present the two parameters characterizing such a tail may be accurately computed. Several numerical examples of interest in the queueing literature illustrate the use of the algorithm. They include commonly used distributions as well as the waiting time, queue length, and busy period in queues with Poisson or more general Markovian arrival processes. Priority queues are also considered.\n",
    "\n",
    "### Reference:\n",
    "Choudhury GL, Lucantoni DM (1996) __Numerical Computation of the Moments of a Probability Distribution from its Transform.__ _Operations Research_ 44:368–381. https://doi.org/10.1287/opre.44.2.368"
   ]
  },
  {
   "cell_type": "code",
   "execution_count": 1,
   "id": "b16d07e5",
   "metadata": {},
   "outputs": [],
   "source": [
    "%load_ext autoreload\n",
    "%autoreload 2"
   ]
  },
  {
   "cell_type": "code",
   "execution_count": 2,
   "id": "9ee5d1f0",
   "metadata": {},
   "outputs": [],
   "source": [
    "import numpy as np\n",
    "import scipy.stats as spst\n",
    "import pandas as pd\n",
    "\n",
    "#import sys\n",
    "#sys.path.insert(sys.path.index('')+1, 'D:/Github/pyfeng')\n",
    "import pyfeng as pf"
   ]
  },
  {
   "cell_type": "markdown",
   "id": "009e4bbc",
   "metadata": {},
   "source": [
    "## `Mgf2Mom` class\n",
    "* Section 6. \"ALGORITHM 3: NUMERICAL INVERSION OF ADAPTIVELY MODIFIED MOMENT GENERATING FUNCTION (THE RECOMMENDED ALGORITHM)\""
   ]
  },
  {
   "cell_type": "markdown",
   "id": "ee5de9cf",
   "metadata": {},
   "source": [
    "## Example 1 (Table 1)"
   ]
  },
  {
   "cell_type": "code",
   "execution_count": 3,
   "id": "328017c5",
   "metadata": {},
   "outputs": [],
   "source": [
    "mgf = lambda z: 1/(1 - 10 * z)\n",
    "m = pf.Mgf2Mom(mgf)\n",
    "mu = m.moments(100)\n",
    "\n",
    "assert(np.isclose(mu[-1], 0.933262154e258, rtol=1e-8))"
   ]
  },
  {
   "cell_type": "code",
   "execution_count": 4,
   "id": "36307856",
   "metadata": {},
   "outputs": [
    {
     "data": {
      "text/html": [
       "<div>\n",
       "<style scoped>\n",
       "    .dataframe tbody tr th:only-of-type {\n",
       "        vertical-align: middle;\n",
       "    }\n",
       "\n",
       "    .dataframe tbody tr th {\n",
       "        vertical-align: top;\n",
       "    }\n",
       "\n",
       "    .dataframe thead th {\n",
       "        text-align: right;\n",
       "    }\n",
       "</style>\n",
       "<table border=\"1\" class=\"dataframe\">\n",
       "  <thead>\n",
       "    <tr style=\"text-align: right;\">\n",
       "      <th></th>\n",
       "      <th>n</th>\n",
       "      <th>mom</th>\n",
       "    </tr>\n",
       "  </thead>\n",
       "  <tbody>\n",
       "    <tr>\n",
       "      <th>0</th>\n",
       "      <td>1</td>\n",
       "      <td>1.000000e+01</td>\n",
       "    </tr>\n",
       "    <tr>\n",
       "      <th>1</th>\n",
       "      <td>2</td>\n",
       "      <td>2.000000e+02</td>\n",
       "    </tr>\n",
       "    <tr>\n",
       "      <th>2</th>\n",
       "      <td>3</td>\n",
       "      <td>6.000000e+03</td>\n",
       "    </tr>\n",
       "    <tr>\n",
       "      <th>3</th>\n",
       "      <td>4</td>\n",
       "      <td>2.400000e+05</td>\n",
       "    </tr>\n",
       "    <tr>\n",
       "      <th>4</th>\n",
       "      <td>5</td>\n",
       "      <td>1.200000e+07</td>\n",
       "    </tr>\n",
       "    <tr>\n",
       "      <th>5</th>\n",
       "      <td>6</td>\n",
       "      <td>7.200000e+08</td>\n",
       "    </tr>\n",
       "    <tr>\n",
       "      <th>6</th>\n",
       "      <td>10</td>\n",
       "      <td>3.628800e+16</td>\n",
       "    </tr>\n",
       "    <tr>\n",
       "      <th>7</th>\n",
       "      <td>50</td>\n",
       "      <td>3.041409e+114</td>\n",
       "    </tr>\n",
       "    <tr>\n",
       "      <th>8</th>\n",
       "      <td>100</td>\n",
       "      <td>9.332622e+257</td>\n",
       "    </tr>\n",
       "  </tbody>\n",
       "</table>\n",
       "</div>"
      ],
      "text/plain": [
       "     n            mom\n",
       "0    1   1.000000e+01\n",
       "1    2   2.000000e+02\n",
       "2    3   6.000000e+03\n",
       "3    4   2.400000e+05\n",
       "4    5   1.200000e+07\n",
       "5    6   7.200000e+08\n",
       "6   10   3.628800e+16\n",
       "7   50  3.041409e+114\n",
       "8  100  9.332622e+257"
      ]
     },
     "execution_count": 4,
     "metadata": {},
     "output_type": "execute_result"
    }
   ],
   "source": [
    "n_list = [1, 2, 3, 4, 5, 6, 10, 50, 100]\n",
    "pd.DataFrame({'n': n_list, 'mom': mu[np.array(n_list)-1]})"
   ]
  },
  {
   "cell_type": "markdown",
   "id": "32eed5cf",
   "metadata": {},
   "source": [
    "## Example 2 (Table 2)"
   ]
  },
  {
   "cell_type": "code",
   "execution_count": 5,
   "id": "b20cc1b8",
   "metadata": {},
   "outputs": [],
   "source": [
    "mgf = lambda z: 1/(1 - 0.1*z)\n",
    "m = pf.Mgf2Mom(mgf)\n",
    "mu = m.moments(100)\n",
    "\n",
    "assert(np.isclose(mu[-1], 0.933262154e58, rtol=1e-8))"
   ]
  },
  {
   "cell_type": "code",
   "execution_count": 6,
   "id": "79d1746b",
   "metadata": {},
   "outputs": [
    {
     "data": {
      "text/html": [
       "<div>\n",
       "<style scoped>\n",
       "    .dataframe tbody tr th:only-of-type {\n",
       "        vertical-align: middle;\n",
       "    }\n",
       "\n",
       "    .dataframe tbody tr th {\n",
       "        vertical-align: top;\n",
       "    }\n",
       "\n",
       "    .dataframe thead th {\n",
       "        text-align: right;\n",
       "    }\n",
       "</style>\n",
       "<table border=\"1\" class=\"dataframe\">\n",
       "  <thead>\n",
       "    <tr style=\"text-align: right;\">\n",
       "      <th></th>\n",
       "      <th>n</th>\n",
       "      <th>mom</th>\n",
       "    </tr>\n",
       "  </thead>\n",
       "  <tbody>\n",
       "    <tr>\n",
       "      <th>0</th>\n",
       "      <td>1</td>\n",
       "      <td>1.000000e-01</td>\n",
       "    </tr>\n",
       "    <tr>\n",
       "      <th>1</th>\n",
       "      <td>2</td>\n",
       "      <td>2.000000e-02</td>\n",
       "    </tr>\n",
       "    <tr>\n",
       "      <th>2</th>\n",
       "      <td>3</td>\n",
       "      <td>6.000000e-03</td>\n",
       "    </tr>\n",
       "    <tr>\n",
       "      <th>3</th>\n",
       "      <td>5</td>\n",
       "      <td>1.200000e-03</td>\n",
       "    </tr>\n",
       "    <tr>\n",
       "      <th>4</th>\n",
       "      <td>9</td>\n",
       "      <td>3.628800e-04</td>\n",
       "    </tr>\n",
       "    <tr>\n",
       "      <th>5</th>\n",
       "      <td>10</td>\n",
       "      <td>3.628800e-04</td>\n",
       "    </tr>\n",
       "    <tr>\n",
       "      <th>6</th>\n",
       "      <td>11</td>\n",
       "      <td>3.991680e-04</td>\n",
       "    </tr>\n",
       "    <tr>\n",
       "      <th>7</th>\n",
       "      <td>12</td>\n",
       "      <td>4.790016e-04</td>\n",
       "    </tr>\n",
       "    <tr>\n",
       "      <th>8</th>\n",
       "      <td>20</td>\n",
       "      <td>2.432902e-02</td>\n",
       "    </tr>\n",
       "    <tr>\n",
       "      <th>9</th>\n",
       "      <td>50</td>\n",
       "      <td>3.041409e+14</td>\n",
       "    </tr>\n",
       "    <tr>\n",
       "      <th>10</th>\n",
       "      <td>100</td>\n",
       "      <td>9.332622e+57</td>\n",
       "    </tr>\n",
       "  </tbody>\n",
       "</table>\n",
       "</div>"
      ],
      "text/plain": [
       "      n           mom\n",
       "0     1  1.000000e-01\n",
       "1     2  2.000000e-02\n",
       "2     3  6.000000e-03\n",
       "3     5  1.200000e-03\n",
       "4     9  3.628800e-04\n",
       "5    10  3.628800e-04\n",
       "6    11  3.991680e-04\n",
       "7    12  4.790016e-04\n",
       "8    20  2.432902e-02\n",
       "9    50  3.041409e+14\n",
       "10  100  9.332622e+57"
      ]
     },
     "execution_count": 6,
     "metadata": {},
     "output_type": "execute_result"
    }
   ],
   "source": [
    "n_list = [1, 2, 3, 5, 9, 10, 11, 12, 20, 50, 100]\n",
    "pd.DataFrame({'n': n_list, 'mom': mu[np.array(n_list)-1]})"
   ]
  },
  {
   "cell_type": "markdown",
   "id": "be1bb2d6",
   "metadata": {},
   "source": [
    "### Example 3 (Table 3)"
   ]
  },
  {
   "cell_type": "code",
   "execution_count": 7,
   "id": "d438d848",
   "metadata": {},
   "outputs": [],
   "source": [
    "mgf = lambda s: (np.exp(s) - 1) / s\n",
    "m = pf.Mgf2Mom(mgf)\n",
    "mu = m.moments(100)\n",
    "\n",
    "assert(np.isclose(mu[-1], 0.990099010e-2, rtol=1e-8))"
   ]
  },
  {
   "cell_type": "code",
   "execution_count": 8,
   "id": "7e3708c0",
   "metadata": {},
   "outputs": [
    {
     "name": "stdout",
     "output_type": "stream",
     "text": [
      "n =   1, mu_n = 4.99999960e-01\n",
      "n =   2, mu_n = 3.33333334e-01\n",
      "n =   4, mu_n = 2.00000000e-01\n",
      "n =   6, mu_n = 1.42857143e-01\n",
      "n =   8, mu_n = 1.11111111e-01\n",
      "n =  10, mu_n = 9.09090909e-02\n",
      "n =  15, mu_n = 6.25000000e-02\n",
      "n =  20, mu_n = 4.76190476e-02\n",
      "n =  25, mu_n = 3.84615385e-02\n",
      "n =  50, mu_n = 1.96078431e-02\n",
      "n = 100, mu_n = 9.90099010e-03\n"
     ]
    }
   ],
   "source": [
    "n_list = [1, 2, 4, 6, 8, 10, 15, 20, 25, 50, 100]\n",
    "for n in n_list:\n",
    "    print(f'n = {n:3d}, mu_n = {mu[n-1]:1.8e}')"
   ]
  },
  {
   "cell_type": "markdown",
   "id": "fdebcd32",
   "metadata": {},
   "source": [
    "### Example 4 (Table 4)"
   ]
  },
  {
   "cell_type": "code",
   "execution_count": 9,
   "id": "2db11967",
   "metadata": {},
   "outputs": [],
   "source": [
    "mgf = lambda z: (1 - z / 40.0)**(-40)\n",
    "m = pf.Mgf2Mom(mgf)\n",
    "mu = m.moments(100)\n",
    "\n",
    "assert(np.isclose(mu[-1], 0.293357870e33, rtol=1e-8))"
   ]
  },
  {
   "cell_type": "code",
   "execution_count": 10,
   "id": "d0f1aff5",
   "metadata": {},
   "outputs": [
    {
     "data": {
      "text/html": [
       "<div>\n",
       "<style scoped>\n",
       "    .dataframe tbody tr th:only-of-type {\n",
       "        vertical-align: middle;\n",
       "    }\n",
       "\n",
       "    .dataframe tbody tr th {\n",
       "        vertical-align: top;\n",
       "    }\n",
       "\n",
       "    .dataframe thead th {\n",
       "        text-align: right;\n",
       "    }\n",
       "</style>\n",
       "<table border=\"1\" class=\"dataframe\">\n",
       "  <thead>\n",
       "    <tr style=\"text-align: right;\">\n",
       "      <th></th>\n",
       "      <th>n</th>\n",
       "      <th>mom</th>\n",
       "    </tr>\n",
       "  </thead>\n",
       "  <tbody>\n",
       "    <tr>\n",
       "      <th>0</th>\n",
       "      <td>1</td>\n",
       "      <td>1.000000e+00</td>\n",
       "    </tr>\n",
       "    <tr>\n",
       "      <th>1</th>\n",
       "      <td>2</td>\n",
       "      <td>1.025000e+00</td>\n",
       "    </tr>\n",
       "    <tr>\n",
       "      <th>2</th>\n",
       "      <td>3</td>\n",
       "      <td>1.076250e+00</td>\n",
       "    </tr>\n",
       "    <tr>\n",
       "      <th>3</th>\n",
       "      <td>4</td>\n",
       "      <td>1.156969e+00</td>\n",
       "    </tr>\n",
       "    <tr>\n",
       "      <th>4</th>\n",
       "      <td>5</td>\n",
       "      <td>1.272666e+00</td>\n",
       "    </tr>\n",
       "    <tr>\n",
       "      <th>5</th>\n",
       "      <td>10</td>\n",
       "      <td>2.843936e+00</td>\n",
       "    </tr>\n",
       "    <tr>\n",
       "      <th>6</th>\n",
       "      <td>20</td>\n",
       "      <td>6.183562e+01</td>\n",
       "    </tr>\n",
       "    <tr>\n",
       "      <th>7</th>\n",
       "      <td>50</td>\n",
       "      <td>6.384232e+09</td>\n",
       "    </tr>\n",
       "    <tr>\n",
       "      <th>8</th>\n",
       "      <td>100</td>\n",
       "      <td>2.933579e+32</td>\n",
       "    </tr>\n",
       "  </tbody>\n",
       "</table>\n",
       "</div>"
      ],
      "text/plain": [
       "     n           mom\n",
       "0    1  1.000000e+00\n",
       "1    2  1.025000e+00\n",
       "2    3  1.076250e+00\n",
       "3    4  1.156969e+00\n",
       "4    5  1.272666e+00\n",
       "5   10  2.843936e+00\n",
       "6   20  6.183562e+01\n",
       "7   50  6.384232e+09\n",
       "8  100  2.933579e+32"
      ]
     },
     "execution_count": 10,
     "metadata": {},
     "output_type": "execute_result"
    }
   ],
   "source": [
    "n_list = [1, 2, 3, 4, 5, 10, 20, 50, 100]\n",
    "pd.DataFrame({'n': n_list, 'mom': mu[np.array(n_list)-1]})"
   ]
  },
  {
   "cell_type": "code",
   "execution_count": null,
   "id": "412f7b4a",
   "metadata": {},
   "outputs": [],
   "source": []
  }
 ],
 "metadata": {
  "kernelspec": {
   "display_name": "Python 3 (ipykernel)",
   "language": "python",
   "name": "python3"
  },
  "language_info": {
   "codemirror_mode": {
    "name": "ipython",
    "version": 3
   },
   "file_extension": ".py",
   "mimetype": "text/x-python",
   "name": "python",
   "nbconvert_exporter": "python",
   "pygments_lexer": "ipython3",
   "version": "3.8.11"
  }
 },
 "nbformat": 4,
 "nbformat_minor": 5
}
