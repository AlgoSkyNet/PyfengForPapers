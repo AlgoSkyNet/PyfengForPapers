{
 "cells": [
  {
   "cell_type": "code",
   "execution_count": 1,
   "id": "afa91be2",
   "metadata": {},
   "outputs": [],
   "source": [
    "%load_ext autoreload\n",
    "%autoreload 2"
   ]
  },
  {
   "cell_type": "code",
   "execution_count": 2,
   "id": "cfab1902",
   "metadata": {},
   "outputs": [],
   "source": [
    "import numpy as np\n",
    "import pandas as pd\n",
    "import scipy.stats as spst\n",
    "\n",
    "#import sys\n",
    "#sys.path.insert(sys.path.index('')+1, 'D:/Github/pyfeng')\n",
    "import pyfeng as pf"
   ]
  },
  {
   "cell_type": "markdown",
   "id": "88af4965",
   "metadata": {},
   "source": [
    "# Garch Diffusion Model\n",
    "\n",
    "Barone-Adesi G, Rasmussen H, Ravanelli C (2005) An option pricing formula for the GARCH diffusion model. Computational Statistics & Data Analysis 49:287–310. https://doi.org/10.1016/j.csda.2004.05.014"
   ]
  },
  {
   "cell_type": "markdown",
   "id": "6a100898",
   "metadata": {},
   "source": [
    "### The implementations are based on the following student course projects\n",
    "\n",
    "https://github.com/PyFE/pyfedev/blob/master/test/Test_Garch.ipynb\n",
    "\n",
    "https://github.com/PanyuLi/PHBS_ASP_Project/blob/main/Test_CondMC_OUSV_Garch.ipynb"
   ]
  },
  {
   "cell_type": "markdown",
   "id": "e567170d",
   "metadata": {},
   "source": [
    "## Table 1"
   ]
  },
  {
   "cell_type": "code",
   "execution_count": 3,
   "id": "e487bb1c",
   "metadata": {},
   "outputs": [],
   "source": [
    "mr, vov, sigma = 18, 1.8, 0.16/18\n",
    "\n",
    "strike = np.arange(90,111,5) # strike price\n",
    "spot = 100 # spot asset price\n",
    "texp = np.array([30, 60, 90, 120, 180, 252, 504])/252  # time to maturity\n",
    "\n",
    "p_grid = [\n",
    "    [0.0008, 0.0184, 0.0664, 0.1393, 0.3294, 0.5928, 1.5438],\n",
    "    [0.0800, 0.2993, 0.5401, 0.7760, 1.2161, 1.6919, 3.0577],\n",
    "    [1.2921, 1.8284, 2.2411, 2.5890, 3.1725, 3.7550, 5.3116],\n",
    "    [5.0999, 5.3497, 5.6155, 5.8721, 6.3462, 6.8550, 8.3052],\n",
    "    [10.0023, 10.0363, 10.1131, 10.2187, 10.4733, 10.8062, 11.9443]\n",
    "]\n",
    "p_paper = pd.DataFrame(data=p_grid, columns=np.int32(texp*252), index=strike)"
   ]
  },
  {
   "cell_type": "markdown",
   "id": "a034a180",
   "metadata": {},
   "source": [
    "## Table 2"
   ]
  },
  {
   "cell_type": "code",
   "execution_count": 4,
   "id": "72d6486a",
   "metadata": {},
   "outputs": [],
   "source": [
    "mr, vov, sigma = 29.23, 3.65, 0.53/29.23\n",
    "\n",
    "strike = np.arange(90,111,5) # strike price\n",
    "spot = 100 # spot asset price\n",
    "texp = np.array([30, 60, 90, 120, 180, 252, 504])/252  # time to maturity\n",
    "\n",
    "p_grid = [\n",
    "    [0.0236, 0.1508, 0.3449, 0.5668, 1.0310, 1.5777, 3.2715],\n",
    "    [0.3093, 0.7899, 1.2348, 1.6394, 2.3550, 3.0980, 5.1528],\n",
    "    [1.8344, 2.6014, 3.1915, 3.6891, 4.5229, 5.3549, 7.5754],\n",
    "    [5.3602, 5.8867, 6.3659, 6.7987, 7.5601, 8.3478, 10.5187],\n",
    "    [10.0436, 10.2325, 10.4914, 10.7723, 11.3372, 11.9831, 13.9310]\n",
    "]\n",
    "p_paper = pd.DataFrame(data=p_grid, columns=np.int32(texp*252), index=strike)"
   ]
  },
  {
   "cell_type": "markdown",
   "id": "c4fccf2c",
   "metadata": {},
   "source": [
    "## Table 3"
   ]
  },
  {
   "cell_type": "code",
   "execution_count": 5,
   "id": "334cf246",
   "metadata": {},
   "outputs": [],
   "source": [
    "mr, vov, sigma = 2, 0.8, 0.18/2\n",
    "\n",
    "strike = np.arange(90,111,5) # strike price\n",
    "spot = 100 # spot asset price\n",
    "texp = np.array([30, 60, 90, 120, 180, 252, 504])/252  # time to maturity\n",
    "\n",
    "p_grid = [\n",
    "    [0.7901, 1.9061, 2.8985, 3.7858, 5.3378, 6.9387, 11.3404],\n",
    "    [2.0011, 3.5125, 4.7109, 5.7337, 7.4645, 9.2060, 13.8865],\n",
    "    [4.1169, 5.8083, 7.1015, 8.1892, 10.0110, 11.8297, 16.6835],\n",
    "    [7.1841, 8.7862, 10.0522, 11.1311, 12.9552, 14.7891, 19.7148],\n",
    "    [11.0473, 12.3644, 13.5044, 14.5125, 16.2621, 18.0562, 22.9623],\n",
    "]\n",
    "p_paper = pd.DataFrame(data=p_grid, columns=np.int32(texp*252), index=strike)"
   ]
  },
  {
   "cell_type": "markdown",
   "id": "1d6a01b3",
   "metadata": {},
   "source": [
    "## PyFeng Implementation"
   ]
  },
  {
   "cell_type": "code",
   "execution_count": 6,
   "id": "303ca56e",
   "metadata": {},
   "outputs": [],
   "source": [
    "m1 = pf.GarchUncorrBaroneAdesi2004(sigma, vov=vov, mr=mr, theta=sigma)\n",
    "p_grid = m1.price(strike, spot, texp[:, None], cp=-1)\n",
    "\n",
    "p_pyfeng = pd.DataFrame(data=p_grid.T, columns=np.int32(texp*252), index=strike)"
   ]
  },
  {
   "cell_type": "code",
   "execution_count": 7,
   "id": "cb456d32",
   "metadata": {},
   "outputs": [
    {
     "data": {
      "text/html": [
       "<div>\n",
       "<style scoped>\n",
       "    .dataframe tbody tr th:only-of-type {\n",
       "        vertical-align: middle;\n",
       "    }\n",
       "\n",
       "    .dataframe tbody tr th {\n",
       "        vertical-align: top;\n",
       "    }\n",
       "\n",
       "    .dataframe thead th {\n",
       "        text-align: right;\n",
       "    }\n",
       "</style>\n",
       "<table border=\"1\" class=\"dataframe\">\n",
       "  <thead>\n",
       "    <tr style=\"text-align: right;\">\n",
       "      <th></th>\n",
       "      <th>30</th>\n",
       "      <th>60</th>\n",
       "      <th>90</th>\n",
       "      <th>120</th>\n",
       "      <th>180</th>\n",
       "      <th>252</th>\n",
       "      <th>504</th>\n",
       "    </tr>\n",
       "  </thead>\n",
       "  <tbody>\n",
       "    <tr>\n",
       "      <th>90</th>\n",
       "      <td>0.0001</td>\n",
       "      <td>0.0009</td>\n",
       "      <td>0.0015</td>\n",
       "      <td>0.0020</td>\n",
       "      <td>0.0027</td>\n",
       "      <td>0.0021</td>\n",
       "      <td>0.0028</td>\n",
       "    </tr>\n",
       "    <tr>\n",
       "      <th>95</th>\n",
       "      <td>0.0001</td>\n",
       "      <td>0.0004</td>\n",
       "      <td>0.0001</td>\n",
       "      <td>-0.0002</td>\n",
       "      <td>-0.0009</td>\n",
       "      <td>-0.0028</td>\n",
       "      <td>-0.0034</td>\n",
       "    </tr>\n",
       "    <tr>\n",
       "      <th>100</th>\n",
       "      <td>-0.0005</td>\n",
       "      <td>-0.0009</td>\n",
       "      <td>-0.0021</td>\n",
       "      <td>-0.0033</td>\n",
       "      <td>-0.0053</td>\n",
       "      <td>-0.0083</td>\n",
       "      <td>-0.0099</td>\n",
       "    </tr>\n",
       "    <tr>\n",
       "      <th>105</th>\n",
       "      <td>-0.0008</td>\n",
       "      <td>-0.0019</td>\n",
       "      <td>-0.0039</td>\n",
       "      <td>-0.0057</td>\n",
       "      <td>-0.0090</td>\n",
       "      <td>-0.0130</td>\n",
       "      <td>-0.0162</td>\n",
       "    </tr>\n",
       "    <tr>\n",
       "      <th>110</th>\n",
       "      <td>-0.0001</td>\n",
       "      <td>-0.0016</td>\n",
       "      <td>-0.0040</td>\n",
       "      <td>-0.0064</td>\n",
       "      <td>-0.0108</td>\n",
       "      <td>-0.0161</td>\n",
       "      <td>-0.0214</td>\n",
       "    </tr>\n",
       "  </tbody>\n",
       "</table>\n",
       "</div>"
      ],
      "text/plain": [
       "        30      60      90      120     180     252     504\n",
       "90   0.0001  0.0009  0.0015  0.0020  0.0027  0.0021  0.0028\n",
       "95   0.0001  0.0004  0.0001 -0.0002 -0.0009 -0.0028 -0.0034\n",
       "100 -0.0005 -0.0009 -0.0021 -0.0033 -0.0053 -0.0083 -0.0099\n",
       "105 -0.0008 -0.0019 -0.0039 -0.0057 -0.0090 -0.0130 -0.0162\n",
       "110 -0.0001 -0.0016 -0.0040 -0.0064 -0.0108 -0.0161 -0.0214"
      ]
     },
     "execution_count": 7,
     "metadata": {},
     "output_type": "execute_result"
    }
   ],
   "source": [
    "# Difference between the paper and pyfeng values\n",
    "p_pyfeng.round(4) - p_paper"
   ]
  },
  {
   "cell_type": "markdown",
   "id": "3afc7e54",
   "metadata": {},
   "source": [
    "## Monte-Carlo with Milstein Scheme "
   ]
  },
  {
   "cell_type": "code",
   "execution_count": 8,
   "id": "f6683652",
   "metadata": {},
   "outputs": [],
   "source": [
    "m2 = pf.GarchMcTimeStep(sigma, vov=vov, mr=mr, theta=sigma)\n",
    "m2.set_num_params(n_path=1e5, dt=1/50, rn_seed=123456)  #, scheme=1\n",
    "\n",
    "## For Table 1 and 3, dt = 1/50 is enough\n",
    "## For Table 2, dt = 1/100 to avoid zero v_t"
   ]
  },
  {
   "cell_type": "code",
   "execution_count": 9,
   "id": "7fb5d001",
   "metadata": {},
   "outputs": [],
   "source": [
    "p_grid = np.zeros((len(texp), len(strike)))\n",
    "for i, t1 in enumerate(texp):\n",
    "    p_grid[i, :] = m2.price(strike, spot, t1, cp=-1)\n",
    "p_mc = pd.DataFrame(data=p_grid.T, columns=np.int32(texp*252), index=strike)"
   ]
  },
  {
   "cell_type": "code",
   "execution_count": 10,
   "id": "c5a49c65",
   "metadata": {},
   "outputs": [
    {
     "data": {
      "text/html": [
       "<div>\n",
       "<style scoped>\n",
       "    .dataframe tbody tr th:only-of-type {\n",
       "        vertical-align: middle;\n",
       "    }\n",
       "\n",
       "    .dataframe tbody tr th {\n",
       "        vertical-align: top;\n",
       "    }\n",
       "\n",
       "    .dataframe thead th {\n",
       "        text-align: right;\n",
       "    }\n",
       "</style>\n",
       "<table border=\"1\" class=\"dataframe\">\n",
       "  <thead>\n",
       "    <tr style=\"text-align: right;\">\n",
       "      <th></th>\n",
       "      <th>30</th>\n",
       "      <th>60</th>\n",
       "      <th>90</th>\n",
       "      <th>120</th>\n",
       "      <th>180</th>\n",
       "      <th>252</th>\n",
       "      <th>504</th>\n",
       "    </tr>\n",
       "  </thead>\n",
       "  <tbody>\n",
       "    <tr>\n",
       "      <th>90</th>\n",
       "      <td>0.0002</td>\n",
       "      <td>-0.0001</td>\n",
       "      <td>-0.0013</td>\n",
       "      <td>-0.0014</td>\n",
       "      <td>-0.0012</td>\n",
       "      <td>0.0019</td>\n",
       "      <td>0.0033</td>\n",
       "    </tr>\n",
       "    <tr>\n",
       "      <th>95</th>\n",
       "      <td>-0.0004</td>\n",
       "      <td>-0.0006</td>\n",
       "      <td>-0.0019</td>\n",
       "      <td>-0.0018</td>\n",
       "      <td>-0.0015</td>\n",
       "      <td>0.0018</td>\n",
       "      <td>0.0034</td>\n",
       "    </tr>\n",
       "    <tr>\n",
       "      <th>100</th>\n",
       "      <td>-0.0007</td>\n",
       "      <td>-0.0008</td>\n",
       "      <td>-0.0021</td>\n",
       "      <td>-0.0020</td>\n",
       "      <td>-0.0016</td>\n",
       "      <td>0.0018</td>\n",
       "      <td>0.0035</td>\n",
       "    </tr>\n",
       "    <tr>\n",
       "      <th>105</th>\n",
       "      <td>-0.0005</td>\n",
       "      <td>-0.0006</td>\n",
       "      <td>-0.0020</td>\n",
       "      <td>-0.0019</td>\n",
       "      <td>-0.0016</td>\n",
       "      <td>0.0019</td>\n",
       "      <td>0.0036</td>\n",
       "    </tr>\n",
       "    <tr>\n",
       "      <th>110</th>\n",
       "      <td>0.0001</td>\n",
       "      <td>-0.0002</td>\n",
       "      <td>-0.0016</td>\n",
       "      <td>-0.0016</td>\n",
       "      <td>-0.0014</td>\n",
       "      <td>0.0020</td>\n",
       "      <td>0.0037</td>\n",
       "    </tr>\n",
       "  </tbody>\n",
       "</table>\n",
       "</div>"
      ],
      "text/plain": [
       "        30      60      90      120     180     252     504\n",
       "90   0.0002 -0.0001 -0.0013 -0.0014 -0.0012  0.0019  0.0033\n",
       "95  -0.0004 -0.0006 -0.0019 -0.0018 -0.0015  0.0018  0.0034\n",
       "100 -0.0007 -0.0008 -0.0021 -0.0020 -0.0016  0.0018  0.0035\n",
       "105 -0.0005 -0.0006 -0.0020 -0.0019 -0.0016  0.0019  0.0036\n",
       "110  0.0001 -0.0002 -0.0016 -0.0016 -0.0014  0.0020  0.0037"
      ]
     },
     "execution_count": 10,
     "metadata": {},
     "output_type": "execute_result"
    }
   ],
   "source": [
    "# Difference between the paper and MC method values\n",
    "p_mc.round(4) - p_paper"
   ]
  },
  {
   "cell_type": "code",
   "execution_count": null,
   "id": "bfa297e3",
   "metadata": {},
   "outputs": [],
   "source": []
  }
 ],
 "metadata": {
  "kernelspec": {
   "display_name": "Python 3 (ipykernel)",
   "language": "python",
   "name": "python3"
  },
  "language_info": {
   "codemirror_mode": {
    "name": "ipython",
    "version": 3
   },
   "file_extension": ".py",
   "mimetype": "text/x-python",
   "name": "python",
   "nbconvert_exporter": "python",
   "pygments_lexer": "ipython3",
   "version": "3.8.11"
  }
 },
 "nbformat": 4,
 "nbformat_minor": 5
}
