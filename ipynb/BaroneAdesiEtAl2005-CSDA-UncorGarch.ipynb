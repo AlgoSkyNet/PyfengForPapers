{
 "cells": [
  {
   "cell_type": "code",
   "execution_count": 1,
   "id": "afa91be2",
   "metadata": {},
   "outputs": [],
   "source": [
    "%load_ext autoreload\n",
    "%autoreload 2"
   ]
  },
  {
   "cell_type": "code",
   "execution_count": 2,
   "id": "cfab1902",
   "metadata": {},
   "outputs": [],
   "source": [
    "import numpy as np\n",
    "import pandas as pd\n",
    "import scipy.stats as spst\n",
    "\n",
    "#import sys\n",
    "#sys.path.insert(sys.path.index('')+1, 'D:/Github/pyfeng')\n",
    "import pyfeng as pf"
   ]
  },
  {
   "cell_type": "markdown",
   "id": "88af4965",
   "metadata": {},
   "source": [
    "# Garch Diffusion Model\n",
    "\n",
    "* Barone-Adesi G, Rasmussen H, Ravanelli C (2005) An option pricing formula for the GARCH diffusion model. Computational Statistics & Data Analysis 49:287–310. https://doi.org/10.1016/j.csda.2004.05.014\n",
    "* `PyFENG` implements the second order ($p^{gd(2)}$) solution."
   ]
  },
  {
   "cell_type": "markdown",
   "id": "6a100898",
   "metadata": {},
   "source": [
    "### The implementations are based on the following student course projects\n",
    "\n",
    "https://github.com/PyFE/pyfedev/blob/master/test/Test_Garch.ipynb\n",
    "\n",
    "https://github.com/PanyuLi/PHBS_ASP_Project/blob/main/Test_CondMC_OUSV_Garch.ipynb"
   ]
  },
  {
   "cell_type": "markdown",
   "id": "6866b3d5",
   "metadata": {},
   "source": [
    "## Run only one of the tables below"
   ]
  },
  {
   "cell_type": "markdown",
   "id": "e567170d",
   "metadata": {},
   "source": [
    "## Table 1"
   ]
  },
  {
   "cell_type": "code",
   "execution_count": 3,
   "id": "e487bb1c",
   "metadata": {},
   "outputs": [],
   "source": [
    "mr, vov, sigma = 18, 1.8, 0.16/18\n",
    "\n",
    "strike = np.arange(90,111,5) # strike price\n",
    "spot = 100 # spot asset price\n",
    "texp = np.array([30, 60, 90, 120, 180, 252, 504])/252  # time to maturity\n",
    "\n",
    "p_grid = [\n",
    "    0.0008, 0.0803, 1.2918, 5.1002, 10.0023, \n",
    "    0.0184, 0.2995, 1.8283, 5.3499, 10.0365, \n",
    "    0.0665, 0.5403, 2.2409, 5.6156, 10.1133, \n",
    "    0.1395, 0.7761, 2.5889, 5.8722, 10.2189, \n",
    "    0.3296, 1.2163, 3.1726, 6.3464, 10.4735, \n",
    "    0.593, 1.6921, 3.7551, 6.8551, 10.8063, \n",
    "    1.544, 3.0579, 5.3118, 8.3054, 11.9445\n",
    "]\n",
    "p_grid = np.array(p_grid).reshape((-1,5))\n",
    "p_paper = pd.DataFrame(data=p_grid, columns=strike, index=np.int32(texp*252))"
   ]
  },
  {
   "cell_type": "markdown",
   "id": "a034a180",
   "metadata": {},
   "source": [
    "## Table 2"
   ]
  },
  {
   "cell_type": "code",
   "execution_count": 4,
   "id": "72d6486a",
   "metadata": {},
   "outputs": [],
   "source": [
    "mr, vov, sigma = 29.23, 3.65, 0.53/29.23\n",
    "\n",
    "strike = np.arange(90,111,5) # strike price\n",
    "spot = 100 # spot asset price\n",
    "texp = np.array([30, 60, 90, 120, 180, 252, 504])/252  # time to maturity\n",
    "\n",
    "p_grid = [\n",
    "    0.0242, 0.3107, 1.8317, 5.3614, 10.0449, \n",
    "    0.1523, 0.7902, 2.5995, 5.8868, 10.2343, \n",
    "    0.3461, 1.2347, 3.1904, 6.3657, 10.4926, \n",
    "    0.5675, 1.6393, 3.6883, 6.7985, 10.773, \n",
    "    1.0316, 2.3552, 4.5229, 7.5603, 11.3378, \n",
    "    1.5781, 3.0983, 5.3551, 8.3481, 11.9835, \n",
    "    3.2723, 5.1536, 7.5763, 10.5196, 13.9318\n",
    "]\n",
    "p_grid = np.array(p_grid).reshape((-1,5))\n",
    "p_paper = pd.DataFrame(data=p_grid, columns=strike, index=np.int32(texp*252))"
   ]
  },
  {
   "cell_type": "markdown",
   "id": "c4fccf2c",
   "metadata": {},
   "source": [
    "## Table 3"
   ]
  },
  {
   "cell_type": "code",
   "execution_count": 5,
   "id": "334cf246",
   "metadata": {},
   "outputs": [],
   "source": [
    "mr, vov, sigma = 2, 0.8, 0.18/2\n",
    "\n",
    "strike = np.arange(90,111,5) # strike price\n",
    "spot = 100 # spot asset price\n",
    "texp = np.array([30, 60, 90, 120, 180, 252, 504])/252  # time to maturity\n",
    "\n",
    "p_grid = [\n",
    "    0.7902, 2.0008, 4.1164, 7.1837, 11.0473, \n",
    "    1.9061, 3.5118, 5.8074, 8.7855, 12.3642, \n",
    "    2.8977, 4.7092, 7.0994, 10.0503, 13.5033, \n",
    "    3.7841, 5.7309, 8.1859, 11.1281, 14.5104, \n",
    "    5.3346, 7.4598, 10.0057, 12.9502, 16.2582, \n",
    "    6.9328, 9.1984, 11.8214, 14.7811, 18.0493, \n",
    "    11.3323, 13.8771, 16.6736, 19.7049, 22.9531\n",
    "]\n",
    "p_grid = np.array(p_grid).reshape((-1,5))\n",
    "p_paper = pd.DataFrame(data=p_grid, columns=strike, index=np.int32(texp*252))"
   ]
  },
  {
   "cell_type": "markdown",
   "id": "dcc2b8a8",
   "metadata": {},
   "source": [
    "## Table 4"
   ]
  },
  {
   "cell_type": "code",
   "execution_count": 6,
   "id": "af974d4d",
   "metadata": {},
   "outputs": [],
   "source": [
    "mr, vov, sigma = 2, 1.2, 0.18/2\n",
    "\n",
    "strike = np.arange(90,111,5) # strike price\n",
    "spot = 100 # spot asset price\n",
    "texp = np.array([30, 60, 90, 120, 180, 252, 504])/252  # time to maturity\n",
    "\n",
    "p_grid = [\n",
    "    0.7905, 1.9913, 4.1018, 7.1733, 11.0458, \n",
    "    1.893, 3.4821, 5.7705, 8.7537, 12.3461, \n",
    "    2.8658, 4.657, 7.0387, 9.9948, 13.4635, \n",
    "    3.7322, 5.6565, 8.1021, 11.0492, 14.4479, \n",
    "    5.2445, 7.3456, 9.881, 12.8294, 16.1533, \n",
    "    6.8054, 9.0469, 11.659, 14.6211, 17.9033, \n",
    "    11.1406, 13.6659, 16.4522, 19.4824, 22.7376\n",
    "]\n",
    "p_grid = np.array(p_grid).reshape((-1,5))\n",
    "p_paper = pd.DataFrame(data=p_grid, columns=strike, index=np.int32(texp*252))"
   ]
  },
  {
   "cell_type": "markdown",
   "id": "caa8af21",
   "metadata": {},
   "source": [
    "## Table 5"
   ]
  },
  {
   "cell_type": "code",
   "execution_count": 7,
   "id": "8873d6af",
   "metadata": {},
   "outputs": [],
   "source": [
    "mr, vov, sigma = 4, 1.2, 0.09/4\n",
    "\n",
    "strike = np.arange(90,111,5) # strike price\n",
    "spot = 100 # spot asset price\n",
    "texp = np.array([30, 60, 90, 120, 180, 252, 504])/252  # time to maturity\n",
    "\n",
    "p_grid = [\n",
    "    0.0419, 0.4273, 2.0536, 5.4913, 10.0747, \n",
    "    0.2415, 1.0085, 2.8961, 6.1225, 10.355, \n",
    "    0.5073, 1.5223, 3.5421, 6.6732, 10.6955, \n",
    "    0.7907, 1.9823, 4.0879, 7.1634, 11.0443, \n",
    "    1.3566, 2.7896, 5.0069, 8.0206, 11.7202, \n",
    "    2.0028, 3.6251, 5.9284, 8.9051, 12.4745, \n",
    "    3.9603, 5.9329, 8.4004, 11.3412, 14.7103\n",
    "]\n",
    "p_grid = np.array(p_grid).reshape((-1,5))\n",
    "p_paper = pd.DataFrame(data=p_grid, columns=strike, index=np.int32(texp*252))"
   ]
  },
  {
   "cell_type": "markdown",
   "id": "1d6a01b3",
   "metadata": {},
   "source": [
    "## PyFeng Implementation (2nd order: $p^{gd(2)}$)"
   ]
  },
  {
   "cell_type": "code",
   "execution_count": 8,
   "id": "303ca56e",
   "metadata": {},
   "outputs": [],
   "source": [
    "m1 = pf.GarchUncorrBaroneAdesi2004(sigma, vov=vov, mr=mr, theta=sigma)\n",
    "p_grid = m1.price(strike, spot, texp[:, None], cp=-1)\n",
    "\n",
    "p_pyfeng = pd.DataFrame(data=p_grid, columns=strike, index=np.int32(texp*252))"
   ]
  },
  {
   "cell_type": "code",
   "execution_count": 9,
   "id": "cb456d32",
   "metadata": {},
   "outputs": [
    {
     "data": {
      "text/html": [
       "<div>\n",
       "<style scoped>\n",
       "    .dataframe tbody tr th:only-of-type {\n",
       "        vertical-align: middle;\n",
       "    }\n",
       "\n",
       "    .dataframe tbody tr th {\n",
       "        vertical-align: top;\n",
       "    }\n",
       "\n",
       "    .dataframe thead th {\n",
       "        text-align: right;\n",
       "    }\n",
       "</style>\n",
       "<table border=\"1\" class=\"dataframe\">\n",
       "  <thead>\n",
       "    <tr style=\"text-align: right;\">\n",
       "      <th></th>\n",
       "      <th>90</th>\n",
       "      <th>95</th>\n",
       "      <th>100</th>\n",
       "      <th>105</th>\n",
       "      <th>110</th>\n",
       "    </tr>\n",
       "  </thead>\n",
       "  <tbody>\n",
       "    <tr>\n",
       "      <th>30</th>\n",
       "      <td>0.0</td>\n",
       "      <td>0.0</td>\n",
       "      <td>0.0</td>\n",
       "      <td>0.0</td>\n",
       "      <td>0.0</td>\n",
       "    </tr>\n",
       "    <tr>\n",
       "      <th>60</th>\n",
       "      <td>0.0</td>\n",
       "      <td>0.0</td>\n",
       "      <td>0.0</td>\n",
       "      <td>0.0</td>\n",
       "      <td>0.0</td>\n",
       "    </tr>\n",
       "    <tr>\n",
       "      <th>90</th>\n",
       "      <td>0.0</td>\n",
       "      <td>0.0</td>\n",
       "      <td>0.0</td>\n",
       "      <td>0.0</td>\n",
       "      <td>0.0</td>\n",
       "    </tr>\n",
       "    <tr>\n",
       "      <th>120</th>\n",
       "      <td>0.0</td>\n",
       "      <td>0.0</td>\n",
       "      <td>0.0</td>\n",
       "      <td>0.0</td>\n",
       "      <td>0.0</td>\n",
       "    </tr>\n",
       "    <tr>\n",
       "      <th>180</th>\n",
       "      <td>0.0</td>\n",
       "      <td>0.0</td>\n",
       "      <td>0.0</td>\n",
       "      <td>0.0</td>\n",
       "      <td>0.0</td>\n",
       "    </tr>\n",
       "    <tr>\n",
       "      <th>252</th>\n",
       "      <td>0.0</td>\n",
       "      <td>0.0</td>\n",
       "      <td>0.0</td>\n",
       "      <td>0.0</td>\n",
       "      <td>0.0</td>\n",
       "    </tr>\n",
       "    <tr>\n",
       "      <th>504</th>\n",
       "      <td>0.0</td>\n",
       "      <td>0.0</td>\n",
       "      <td>0.0</td>\n",
       "      <td>0.0</td>\n",
       "      <td>0.0</td>\n",
       "    </tr>\n",
       "  </tbody>\n",
       "</table>\n",
       "</div>"
      ],
      "text/plain": [
       "     90   95   100  105  110\n",
       "30   0.0  0.0  0.0  0.0  0.0\n",
       "60   0.0  0.0  0.0  0.0  0.0\n",
       "90   0.0  0.0  0.0  0.0  0.0\n",
       "120  0.0  0.0  0.0  0.0  0.0\n",
       "180  0.0  0.0  0.0  0.0  0.0\n",
       "252  0.0  0.0  0.0  0.0  0.0\n",
       "504  0.0  0.0  0.0  0.0  0.0"
      ]
     },
     "execution_count": 9,
     "metadata": {},
     "output_type": "execute_result"
    }
   ],
   "source": [
    "# Difference between the paper and pyfeng values\n",
    "p_pyfeng.round(4) - p_paper"
   ]
  },
  {
   "cell_type": "markdown",
   "id": "3afc7e54",
   "metadata": {},
   "source": [
    "## Monte-Carlo with Milstein Scheme "
   ]
  },
  {
   "cell_type": "code",
   "execution_count": 10,
   "id": "f6683652",
   "metadata": {},
   "outputs": [],
   "source": [
    "m2 = pf.GarchMcTimeDisc(sigma, vov=vov, mr=mr, theta=sigma)\n",
    "m2.set_num_params(n_path=1e5, dt=1/50, rn_seed=123456, scheme=1)  #, scheme=1\n",
    "\n",
    "## For Table 1 and 3, dt = 1/50 is enough\n",
    "## For Table 2, dt = 1/100 to avoid zero v_t"
   ]
  },
  {
   "cell_type": "code",
   "execution_count": 11,
   "id": "7fb5d001",
   "metadata": {},
   "outputs": [],
   "source": [
    "p_grid = np.zeros((len(texp), len(strike)))\n",
    "for i, t1 in enumerate(texp):\n",
    "    p_grid[i, :] = m2.price(strike, spot, t1, cp=-1)\n",
    "p_mc = pd.DataFrame(data=p_grid, index=np.int32(texp*252), columns=strike)"
   ]
  },
  {
   "cell_type": "code",
   "execution_count": 12,
   "id": "c5a49c65",
   "metadata": {},
   "outputs": [
    {
     "data": {
      "text/html": [
       "<div>\n",
       "<style scoped>\n",
       "    .dataframe tbody tr th:only-of-type {\n",
       "        vertical-align: middle;\n",
       "    }\n",
       "\n",
       "    .dataframe tbody tr th {\n",
       "        vertical-align: top;\n",
       "    }\n",
       "\n",
       "    .dataframe thead th {\n",
       "        text-align: right;\n",
       "    }\n",
       "</style>\n",
       "<table border=\"1\" class=\"dataframe\">\n",
       "  <thead>\n",
       "    <tr style=\"text-align: right;\">\n",
       "      <th></th>\n",
       "      <th>90</th>\n",
       "      <th>95</th>\n",
       "      <th>100</th>\n",
       "      <th>105</th>\n",
       "      <th>110</th>\n",
       "    </tr>\n",
       "  </thead>\n",
       "  <tbody>\n",
       "    <tr>\n",
       "      <th>30</th>\n",
       "      <td>0.0001</td>\n",
       "      <td>0.0000</td>\n",
       "      <td>-0.0001</td>\n",
       "      <td>0.0000</td>\n",
       "      <td>0.0001</td>\n",
       "    </tr>\n",
       "    <tr>\n",
       "      <th>60</th>\n",
       "      <td>-0.0006</td>\n",
       "      <td>0.0000</td>\n",
       "      <td>0.0006</td>\n",
       "      <td>0.0001</td>\n",
       "      <td>-0.0007</td>\n",
       "    </tr>\n",
       "    <tr>\n",
       "      <th>90</th>\n",
       "      <td>-0.0017</td>\n",
       "      <td>-0.0002</td>\n",
       "      <td>0.0008</td>\n",
       "      <td>-0.0002</td>\n",
       "      <td>-0.0017</td>\n",
       "    </tr>\n",
       "    <tr>\n",
       "      <th>120</th>\n",
       "      <td>-0.0016</td>\n",
       "      <td>0.0008</td>\n",
       "      <td>0.0021</td>\n",
       "      <td>0.0010</td>\n",
       "      <td>-0.0014</td>\n",
       "    </tr>\n",
       "    <tr>\n",
       "      <th>180</th>\n",
       "      <td>-0.0009</td>\n",
       "      <td>0.0020</td>\n",
       "      <td>0.0034</td>\n",
       "      <td>0.0023</td>\n",
       "      <td>-0.0004</td>\n",
       "    </tr>\n",
       "    <tr>\n",
       "      <th>252</th>\n",
       "      <td>0.0018</td>\n",
       "      <td>0.0047</td>\n",
       "      <td>0.0059</td>\n",
       "      <td>0.0049</td>\n",
       "      <td>0.0027</td>\n",
       "    </tr>\n",
       "    <tr>\n",
       "      <th>504</th>\n",
       "      <td>0.0029</td>\n",
       "      <td>0.0042</td>\n",
       "      <td>0.0048</td>\n",
       "      <td>0.0045</td>\n",
       "      <td>0.0035</td>\n",
       "    </tr>\n",
       "  </tbody>\n",
       "</table>\n",
       "</div>"
      ],
      "text/plain": [
       "        90      95      100     105     110\n",
       "30   0.0001  0.0000 -0.0001  0.0000  0.0001\n",
       "60  -0.0006  0.0000  0.0006  0.0001 -0.0007\n",
       "90  -0.0017 -0.0002  0.0008 -0.0002 -0.0017\n",
       "120 -0.0016  0.0008  0.0021  0.0010 -0.0014\n",
       "180 -0.0009  0.0020  0.0034  0.0023 -0.0004\n",
       "252  0.0018  0.0047  0.0059  0.0049  0.0027\n",
       "504  0.0029  0.0042  0.0048  0.0045  0.0035"
      ]
     },
     "execution_count": 12,
     "metadata": {},
     "output_type": "execute_result"
    }
   ],
   "source": [
    "# Difference between the paper and MC method values\n",
    "p_mc.round(4) - p_paper"
   ]
  },
  {
   "cell_type": "code",
   "execution_count": null,
   "id": "bfa297e3",
   "metadata": {},
   "outputs": [],
   "source": []
  }
 ],
 "metadata": {
  "kernelspec": {
   "display_name": "Python 3 (ipykernel)",
   "language": "python",
   "name": "python3"
  },
  "language_info": {
   "codemirror_mode": {
    "name": "ipython",
    "version": 3
   },
   "file_extension": ".py",
   "mimetype": "text/x-python",
   "name": "python",
   "nbconvert_exporter": "python",
   "pygments_lexer": "ipython3",
   "version": "3.9.7"
  }
 },
 "nbformat": 4,
 "nbformat_minor": 5
}
